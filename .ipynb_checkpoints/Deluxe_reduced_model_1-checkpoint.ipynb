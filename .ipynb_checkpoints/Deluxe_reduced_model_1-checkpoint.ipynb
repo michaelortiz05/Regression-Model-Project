{
 "cells": [
  {
   "cell_type": "code",
   "execution_count": 1,
   "metadata": {},
   "outputs": [],
   "source": [
    "import numpy as np\n",
    "import pandas as pd\n",
    "import matplotlib.pyplot as plt\n",
    "import seaborn as sns\n",
    "from scipy import stats"
   ]
  },
  {
   "cell_type": "code",
   "execution_count": 2,
   "metadata": {},
   "outputs": [],
   "source": [
    "df_deluxe = pd.read_csv('Combined_Data.csv')"
   ]
  },
  {
   "cell_type": "code",
   "execution_count": 3,
   "metadata": {},
   "outputs": [],
   "source": [
    "df_deluxe = df_deluxe.drop([\"Unnamed: 0\"], axis=1)"
   ]
  },
  {
   "cell_type": "code",
   "execution_count": 4,
   "metadata": {},
   "outputs": [
    {
     "data": {
      "text/plain": [
       "['Regional.indicator',\n",
       " 'Ladder.score',\n",
       " 'Logged.GDP.per.capita',\n",
       " 'Social.support',\n",
       " 'Healthy.life.expectancy',\n",
       " 'Freedom.to.make.life.choices',\n",
       " 'Generosity',\n",
       " 'Perceptions.of.corruption',\n",
       " 'dollar_price']"
      ]
     },
     "execution_count": 4,
     "metadata": {},
     "output_type": "execute_result"
    }
   ],
   "source": [
    "list(df_deluxe.columns.values)"
   ]
  },
  {
   "cell_type": "code",
   "execution_count": 5,
   "metadata": {},
   "outputs": [
    {
     "data": {
      "text/html": [
       "<div>\n",
       "<style scoped>\n",
       "    .dataframe tbody tr th:only-of-type {\n",
       "        vertical-align: middle;\n",
       "    }\n",
       "\n",
       "    .dataframe tbody tr th {\n",
       "        vertical-align: top;\n",
       "    }\n",
       "\n",
       "    .dataframe thead th {\n",
       "        text-align: right;\n",
       "    }\n",
       "</style>\n",
       "<table border=\"1\" class=\"dataframe\">\n",
       "  <thead>\n",
       "    <tr style=\"text-align: right;\">\n",
       "      <th></th>\n",
       "      <th>Regional.indicator</th>\n",
       "      <th>Ladder.score</th>\n",
       "      <th>Logged.GDP.per.capita</th>\n",
       "      <th>Social.support</th>\n",
       "      <th>Healthy.life.expectancy</th>\n",
       "      <th>Freedom.to.make.life.choices</th>\n",
       "      <th>Generosity</th>\n",
       "      <th>Perceptions.of.corruption</th>\n",
       "      <th>dollar_price</th>\n",
       "    </tr>\n",
       "  </thead>\n",
       "  <tbody>\n",
       "    <tr>\n",
       "      <th>0</th>\n",
       "      <td>Latin America and Caribbean</td>\n",
       "      <td>5.929</td>\n",
       "      <td>9.962</td>\n",
       "      <td>0.898</td>\n",
       "      <td>69.000</td>\n",
       "      <td>0.828</td>\n",
       "      <td>-0.182</td>\n",
       "      <td>0.834</td>\n",
       "      <td>4.125534</td>\n",
       "    </tr>\n",
       "    <tr>\n",
       "      <th>1</th>\n",
       "      <td>North America and ANZ</td>\n",
       "      <td>7.183</td>\n",
       "      <td>10.796</td>\n",
       "      <td>0.940</td>\n",
       "      <td>73.900</td>\n",
       "      <td>0.914</td>\n",
       "      <td>0.159</td>\n",
       "      <td>0.442</td>\n",
       "      <td>4.527955</td>\n",
       "    </tr>\n",
       "    <tr>\n",
       "      <th>2</th>\n",
       "      <td>Western Europe</td>\n",
       "      <td>7.268</td>\n",
       "      <td>10.906</td>\n",
       "      <td>0.934</td>\n",
       "      <td>73.300</td>\n",
       "      <td>0.908</td>\n",
       "      <td>0.042</td>\n",
       "      <td>0.481</td>\n",
       "      <td>3.882630</td>\n",
       "    </tr>\n",
       "    <tr>\n",
       "      <th>3</th>\n",
       "      <td>Western Europe</td>\n",
       "      <td>6.834</td>\n",
       "      <td>10.823</td>\n",
       "      <td>0.906</td>\n",
       "      <td>72.199</td>\n",
       "      <td>0.783</td>\n",
       "      <td>-0.153</td>\n",
       "      <td>0.646</td>\n",
       "      <td>4.624897</td>\n",
       "    </tr>\n",
       "    <tr>\n",
       "      <th>4</th>\n",
       "      <td>Latin America and Caribbean</td>\n",
       "      <td>6.330</td>\n",
       "      <td>9.577</td>\n",
       "      <td>0.882</td>\n",
       "      <td>66.601</td>\n",
       "      <td>0.804</td>\n",
       "      <td>-0.071</td>\n",
       "      <td>0.756</td>\n",
       "      <td>5.101568</td>\n",
       "    </tr>\n",
       "    <tr>\n",
       "      <th>5</th>\n",
       "      <td>North America and ANZ</td>\n",
       "      <td>7.103</td>\n",
       "      <td>10.776</td>\n",
       "      <td>0.926</td>\n",
       "      <td>73.800</td>\n",
       "      <td>0.915</td>\n",
       "      <td>0.089</td>\n",
       "      <td>0.415</td>\n",
       "      <td>4.655697</td>\n",
       "    </tr>\n",
       "    <tr>\n",
       "      <th>6</th>\n",
       "      <td>Latin America and Caribbean</td>\n",
       "      <td>6.172</td>\n",
       "      <td>10.071</td>\n",
       "      <td>0.882</td>\n",
       "      <td>70.000</td>\n",
       "      <td>0.742</td>\n",
       "      <td>-0.044</td>\n",
       "      <td>0.830</td>\n",
       "      <td>3.844096</td>\n",
       "    </tr>\n",
       "    <tr>\n",
       "      <th>7</th>\n",
       "      <td>East Asia</td>\n",
       "      <td>5.339</td>\n",
       "      <td>9.673</td>\n",
       "      <td>0.811</td>\n",
       "      <td>69.593</td>\n",
       "      <td>0.904</td>\n",
       "      <td>-0.146</td>\n",
       "      <td>0.755</td>\n",
       "      <td>2.917127</td>\n",
       "    </tr>\n",
       "    <tr>\n",
       "      <th>8</th>\n",
       "      <td>Latin America and Caribbean</td>\n",
       "      <td>6.012</td>\n",
       "      <td>9.557</td>\n",
       "      <td>0.847</td>\n",
       "      <td>68.001</td>\n",
       "      <td>0.837</td>\n",
       "      <td>-0.135</td>\n",
       "      <td>0.841</td>\n",
       "      <td>3.243605</td>\n",
       "    </tr>\n",
       "    <tr>\n",
       "      <th>9</th>\n",
       "      <td>Latin America and Caribbean</td>\n",
       "      <td>7.069</td>\n",
       "      <td>9.880</td>\n",
       "      <td>0.891</td>\n",
       "      <td>71.400</td>\n",
       "      <td>0.934</td>\n",
       "      <td>-0.126</td>\n",
       "      <td>0.809</td>\n",
       "      <td>4.000035</td>\n",
       "    </tr>\n",
       "  </tbody>\n",
       "</table>\n",
       "</div>"
      ],
      "text/plain": [
       "            Regional.indicator  Ladder.score  Logged.GDP.per.capita  \\\n",
       "0  Latin America and Caribbean         5.929                  9.962   \n",
       "1        North America and ANZ         7.183                 10.796   \n",
       "2               Western Europe         7.268                 10.906   \n",
       "3               Western Europe         6.834                 10.823   \n",
       "4  Latin America and Caribbean         6.330                  9.577   \n",
       "5        North America and ANZ         7.103                 10.776   \n",
       "6  Latin America and Caribbean         6.172                 10.071   \n",
       "7                    East Asia         5.339                  9.673   \n",
       "8  Latin America and Caribbean         6.012                  9.557   \n",
       "9  Latin America and Caribbean         7.069                  9.880   \n",
       "\n",
       "   Social.support  Healthy.life.expectancy  Freedom.to.make.life.choices  \\\n",
       "0           0.898                   69.000                         0.828   \n",
       "1           0.940                   73.900                         0.914   \n",
       "2           0.934                   73.300                         0.908   \n",
       "3           0.906                   72.199                         0.783   \n",
       "4           0.882                   66.601                         0.804   \n",
       "5           0.926                   73.800                         0.915   \n",
       "6           0.882                   70.000                         0.742   \n",
       "7           0.811                   69.593                         0.904   \n",
       "8           0.847                   68.001                         0.837   \n",
       "9           0.891                   71.400                         0.934   \n",
       "\n",
       "   Generosity  Perceptions.of.corruption  dollar_price  \n",
       "0      -0.182                      0.834      4.125534  \n",
       "1       0.159                      0.442      4.527955  \n",
       "2       0.042                      0.481      3.882630  \n",
       "3      -0.153                      0.646      4.624897  \n",
       "4      -0.071                      0.756      5.101568  \n",
       "5       0.089                      0.415      4.655697  \n",
       "6      -0.044                      0.830      3.844096  \n",
       "7      -0.146                      0.755      2.917127  \n",
       "8      -0.135                      0.841      3.243605  \n",
       "9      -0.126                      0.809      4.000035  "
      ]
     },
     "execution_count": 5,
     "metadata": {},
     "output_type": "execute_result"
    }
   ],
   "source": [
    "df_deluxe.head(10)"
   ]
  },
  {
   "cell_type": "code",
   "execution_count": 6,
   "metadata": {},
   "outputs": [
    {
     "data": {
      "text/plain": [
       "Regional.indicator                \n",
       "Western Europe                        15\n",
       "Latin America and Caribbean            9\n",
       "Southeast Asia                         6\n",
       "North America and ANZ                  4\n",
       "Middle East and North Africa           4\n",
       "Central and Eastern Europe             4\n",
       "South Asia                             3\n",
       "East Asia                              3\n",
       "Commonwealth of Independent States     2\n",
       "Sub-Saharan Africa                     1\n",
       "dtype: int64"
      ]
     },
     "execution_count": 6,
     "metadata": {},
     "output_type": "execute_result"
    }
   ],
   "source": [
    "df_deluxe.value_counts(['Regional.indicator'])"
   ]
  },
  {
   "cell_type": "code",
   "execution_count": 7,
   "metadata": {},
   "outputs": [],
   "source": [
    "df_deluxe = df_deluxe.rename(columns={\"Ladder.score\" : \"Perceptions.of.happiness\"})\n",
    "df_deluxe = df_deluxe.rename(columns={\"dollar_price\" : \"Dollar.price\"})"
   ]
  },
  {
   "cell_type": "code",
   "execution_count": 8,
   "metadata": {},
   "outputs": [
    {
     "data": {
      "text/html": [
       "<div>\n",
       "<style scoped>\n",
       "    .dataframe tbody tr th:only-of-type {\n",
       "        vertical-align: middle;\n",
       "    }\n",
       "\n",
       "    .dataframe tbody tr th {\n",
       "        vertical-align: top;\n",
       "    }\n",
       "\n",
       "    .dataframe thead th {\n",
       "        text-align: right;\n",
       "    }\n",
       "</style>\n",
       "<table border=\"1\" class=\"dataframe\">\n",
       "  <thead>\n",
       "    <tr style=\"text-align: right;\">\n",
       "      <th></th>\n",
       "      <th>Regional.indicator</th>\n",
       "      <th>Perceptions.of.happiness</th>\n",
       "      <th>Logged.GDP.per.capita</th>\n",
       "      <th>Social.support</th>\n",
       "      <th>Healthy.life.expectancy</th>\n",
       "      <th>Freedom.to.make.life.choices</th>\n",
       "      <th>Generosity</th>\n",
       "      <th>Perceptions.of.corruption</th>\n",
       "      <th>Dollar.price</th>\n",
       "    </tr>\n",
       "  </thead>\n",
       "  <tbody>\n",
       "    <tr>\n",
       "      <th>0</th>\n",
       "      <td>Latin America and Caribbean</td>\n",
       "      <td>5.929</td>\n",
       "      <td>9.962</td>\n",
       "      <td>0.898</td>\n",
       "      <td>69.000</td>\n",
       "      <td>0.828</td>\n",
       "      <td>-0.182</td>\n",
       "      <td>0.834</td>\n",
       "      <td>4.125534</td>\n",
       "    </tr>\n",
       "    <tr>\n",
       "      <th>1</th>\n",
       "      <td>North America and ANZ</td>\n",
       "      <td>7.183</td>\n",
       "      <td>10.796</td>\n",
       "      <td>0.940</td>\n",
       "      <td>73.900</td>\n",
       "      <td>0.914</td>\n",
       "      <td>0.159</td>\n",
       "      <td>0.442</td>\n",
       "      <td>4.527955</td>\n",
       "    </tr>\n",
       "    <tr>\n",
       "      <th>2</th>\n",
       "      <td>Western Europe</td>\n",
       "      <td>7.268</td>\n",
       "      <td>10.906</td>\n",
       "      <td>0.934</td>\n",
       "      <td>73.300</td>\n",
       "      <td>0.908</td>\n",
       "      <td>0.042</td>\n",
       "      <td>0.481</td>\n",
       "      <td>3.882630</td>\n",
       "    </tr>\n",
       "    <tr>\n",
       "      <th>3</th>\n",
       "      <td>Western Europe</td>\n",
       "      <td>6.834</td>\n",
       "      <td>10.823</td>\n",
       "      <td>0.906</td>\n",
       "      <td>72.199</td>\n",
       "      <td>0.783</td>\n",
       "      <td>-0.153</td>\n",
       "      <td>0.646</td>\n",
       "      <td>4.624897</td>\n",
       "    </tr>\n",
       "    <tr>\n",
       "      <th>4</th>\n",
       "      <td>Latin America and Caribbean</td>\n",
       "      <td>6.330</td>\n",
       "      <td>9.577</td>\n",
       "      <td>0.882</td>\n",
       "      <td>66.601</td>\n",
       "      <td>0.804</td>\n",
       "      <td>-0.071</td>\n",
       "      <td>0.756</td>\n",
       "      <td>5.101568</td>\n",
       "    </tr>\n",
       "    <tr>\n",
       "      <th>5</th>\n",
       "      <td>North America and ANZ</td>\n",
       "      <td>7.103</td>\n",
       "      <td>10.776</td>\n",
       "      <td>0.926</td>\n",
       "      <td>73.800</td>\n",
       "      <td>0.915</td>\n",
       "      <td>0.089</td>\n",
       "      <td>0.415</td>\n",
       "      <td>4.655697</td>\n",
       "    </tr>\n",
       "    <tr>\n",
       "      <th>6</th>\n",
       "      <td>Latin America and Caribbean</td>\n",
       "      <td>6.172</td>\n",
       "      <td>10.071</td>\n",
       "      <td>0.882</td>\n",
       "      <td>70.000</td>\n",
       "      <td>0.742</td>\n",
       "      <td>-0.044</td>\n",
       "      <td>0.830</td>\n",
       "      <td>3.844096</td>\n",
       "    </tr>\n",
       "    <tr>\n",
       "      <th>7</th>\n",
       "      <td>East Asia</td>\n",
       "      <td>5.339</td>\n",
       "      <td>9.673</td>\n",
       "      <td>0.811</td>\n",
       "      <td>69.593</td>\n",
       "      <td>0.904</td>\n",
       "      <td>-0.146</td>\n",
       "      <td>0.755</td>\n",
       "      <td>2.917127</td>\n",
       "    </tr>\n",
       "    <tr>\n",
       "      <th>8</th>\n",
       "      <td>Latin America and Caribbean</td>\n",
       "      <td>6.012</td>\n",
       "      <td>9.557</td>\n",
       "      <td>0.847</td>\n",
       "      <td>68.001</td>\n",
       "      <td>0.837</td>\n",
       "      <td>-0.135</td>\n",
       "      <td>0.841</td>\n",
       "      <td>3.243605</td>\n",
       "    </tr>\n",
       "    <tr>\n",
       "      <th>9</th>\n",
       "      <td>Latin America and Caribbean</td>\n",
       "      <td>7.069</td>\n",
       "      <td>9.880</td>\n",
       "      <td>0.891</td>\n",
       "      <td>71.400</td>\n",
       "      <td>0.934</td>\n",
       "      <td>-0.126</td>\n",
       "      <td>0.809</td>\n",
       "      <td>4.000035</td>\n",
       "    </tr>\n",
       "  </tbody>\n",
       "</table>\n",
       "</div>"
      ],
      "text/plain": [
       "            Regional.indicator  Perceptions.of.happiness  \\\n",
       "0  Latin America and Caribbean                     5.929   \n",
       "1        North America and ANZ                     7.183   \n",
       "2               Western Europe                     7.268   \n",
       "3               Western Europe                     6.834   \n",
       "4  Latin America and Caribbean                     6.330   \n",
       "5        North America and ANZ                     7.103   \n",
       "6  Latin America and Caribbean                     6.172   \n",
       "7                    East Asia                     5.339   \n",
       "8  Latin America and Caribbean                     6.012   \n",
       "9  Latin America and Caribbean                     7.069   \n",
       "\n",
       "   Logged.GDP.per.capita  Social.support  Healthy.life.expectancy  \\\n",
       "0                  9.962           0.898                   69.000   \n",
       "1                 10.796           0.940                   73.900   \n",
       "2                 10.906           0.934                   73.300   \n",
       "3                 10.823           0.906                   72.199   \n",
       "4                  9.577           0.882                   66.601   \n",
       "5                 10.776           0.926                   73.800   \n",
       "6                 10.071           0.882                   70.000   \n",
       "7                  9.673           0.811                   69.593   \n",
       "8                  9.557           0.847                   68.001   \n",
       "9                  9.880           0.891                   71.400   \n",
       "\n",
       "   Freedom.to.make.life.choices  Generosity  Perceptions.of.corruption  \\\n",
       "0                         0.828      -0.182                      0.834   \n",
       "1                         0.914       0.159                      0.442   \n",
       "2                         0.908       0.042                      0.481   \n",
       "3                         0.783      -0.153                      0.646   \n",
       "4                         0.804      -0.071                      0.756   \n",
       "5                         0.915       0.089                      0.415   \n",
       "6                         0.742      -0.044                      0.830   \n",
       "7                         0.904      -0.146                      0.755   \n",
       "8                         0.837      -0.135                      0.841   \n",
       "9                         0.934      -0.126                      0.809   \n",
       "\n",
       "   Dollar.price  \n",
       "0      4.125534  \n",
       "1      4.527955  \n",
       "2      3.882630  \n",
       "3      4.624897  \n",
       "4      5.101568  \n",
       "5      4.655697  \n",
       "6      3.844096  \n",
       "7      2.917127  \n",
       "8      3.243605  \n",
       "9      4.000035  "
      ]
     },
     "execution_count": 8,
     "metadata": {},
     "output_type": "execute_result"
    }
   ],
   "source": [
    "df_deluxe.head(10)"
   ]
  },
  {
   "cell_type": "code",
   "execution_count": 9,
   "metadata": {},
   "outputs": [
    {
     "data": {
      "image/png": "[encoded data removed]",
      "text/plain": [
       "<Figure size 1260x180 with 7 Axes>"
      ]
     },
     "metadata": {
      "needs_background": "light"
     },
     "output_type": "display_data"
    }
   ],
   "source": [
    "g = sns.PairGrid(df_deluxe,y_vars = ['Perceptions.of.happiness'], x_vars = ['Logged.GDP.per.capita','Social.support', \n",
    "                                                                                  'Healthy.life.expectancy','Freedom.to.make.life.choices','Generosity','Perceptions.of.corruption','Dollar.price'])\n",
    "g.map(sns.scatterplot)\n",
    "plt.show()"
   ]
  },
  {
   "cell_type": "code",
   "execution_count": 10,
   "metadata": {},
   "outputs": [],
   "source": [
    "from sklearn import linear_model\n",
    "X_happymeal = df_deluxe[\"Dollar.price\"].to_numpy()\n",
    "Y = df_deluxe[\"Perceptions.of.happiness\"].to_numpy()\n",
    "reg = linear_model.LinearRegression()\n",
    "reg.fit(X_happymeal.reshape(-1,1), Y)\n",
    "Y_pred_happymeal = reg.predict(X_happymeal.reshape(-1,1))\n",
    "\n",
    "X_life = df_deluxe[\"Healthy.life.expectancy\"].to_numpy()\n",
    "reg2 = linear_model.LinearRegression()\n",
    "reg2.fit(X_life.reshape(-1,1), Y)\n",
    "Y_pred_life = reg2.predict(X_life.reshape(-1,1))"
   ]
  },
  {
   "cell_type": "code",
   "execution_count": 11,
   "metadata": {},
   "outputs": [
    {
     "data": {
      "image/png": "[encoded data removed]",
      "text/plain": [
       "<Figure size 1080x504 with 2 Axes>"
      ]
     },
     "metadata": {
      "needs_background": "light"
     },
     "output_type": "display_data"
    }
   ],
   "source": [
    "fig, axs = plt.subplots(1, 2, figsize=(15,7))\n",
    "#plt.figure()\n",
    "axs[0].scatter(X_happymeal, Y)\n",
    "axs[0].plot(X_happymeal, Y_pred_happymeal, color='red')\n",
    "axs[0].set(xlabel='Happy Meal Price ($)', ylabel='Perceptions of Happiness')\n",
    "axs[0].grid(True)\n",
    "fig.suptitle('Predicted Happiness from Happy Meal Prices VS Life Expectancy', fontsize=20)\n",
    "axs[1].scatter(X_life, Y)\n",
    "axs[1].plot(X_life, Y_pred_life, color='red')\n",
    "axs[1].set(xlabel='Life Expectancy (years)', ylabel='Perceptions of Happiness')\n",
    "axs[1].grid(True)\n",
    "\n",
    "axs[0].xaxis.get_label().set_fontsize(15)\n",
    "axs[0].yaxis.get_label().set_fontsize(15)\n",
    "axs[1].xaxis.get_label().set_fontsize(15)\n",
    "axs[1].yaxis.get_label().set_fontsize(15)\n",
    "plt.show()"
   ]
  },
  {
   "cell_type": "markdown",
   "metadata": {},
   "source": [
    "# Getting Summary Stats Using Statsmodels"
   ]
  },
  {
   "cell_type": "code",
   "execution_count": 12,
   "metadata": {},
   "outputs": [
    {
     "name": "stdout",
     "output_type": "stream",
     "text": [
      "                            OLS Regression Results                            \n",
      "==============================================================================\n",
      "Dep. Variable:                      y   R-squared:                       0.538\n",
      "Model:                            OLS   Adj. R-squared:                  0.529\n",
      "Method:                 Least Squares   F-statistic:                     57.17\n",
      "Date:                Mon, 19 Jul 2021   Prob (F-statistic):           9.01e-10\n",
      "Time:                        08:09:43   Log-Likelihood:                -49.919\n",
      "No. Observations:                  51   AIC:                             103.8\n",
      "Df Residuals:                      49   BIC:                             107.7\n",
      "Df Model:                           1                                         \n",
      "Covariance Type:            nonrobust                                         \n",
      "==============================================================================\n",
      "                 coef    std err          t      P>|t|      [0.025      0.975]\n",
      "------------------------------------------------------------------------------\n",
      "const          3.7424      0.339     11.054      0.000       3.062       4.423\n",
      "x1             0.6462      0.085      7.561      0.000       0.474       0.818\n",
      "==============================================================================\n",
      "Omnibus:                        7.437   Durbin-Watson:                   1.633\n",
      "Prob(Omnibus):                  0.024   Jarque-Bera (JB):                6.438\n",
      "Skew:                          -0.760   Prob(JB):                       0.0400\n",
      "Kurtosis:                       3.848   Cond. No.                         15.4\n",
      "==============================================================================\n",
      "\n",
      "Notes:\n",
      "[1] Standard Errors assume that the covariance matrix of the errors is correctly specified.\n"
     ]
    }
   ],
   "source": [
    "import statsmodels.api as sm\n",
    "X_happymeal_adjust = sm.add_constant(X_happymeal)\n",
    "happymeal_model = sm.OLS(Y, X_happymeal_adjust)\n",
    "results_happymeal = happymeal_model.fit()\n",
    "print(results_happymeal.summary())"
   ]
  },
  {
   "cell_type": "code",
   "execution_count": 13,
   "metadata": {},
   "outputs": [
    {
     "name": "stdout",
     "output_type": "stream",
     "text": [
      "                            OLS Regression Results                            \n",
      "==============================================================================\n",
      "Dep. Variable:                      y   R-squared:                       0.520\n",
      "Model:                            OLS   Adj. R-squared:                  0.510\n",
      "Method:                 Least Squares   F-statistic:                     53.03\n",
      "Date:                Mon, 19 Jul 2021   Prob (F-statistic):           2.42e-09\n",
      "Time:                        08:09:43   Log-Likelihood:                -50.932\n",
      "No. Observations:                  51   AIC:                             105.9\n",
      "Df Residuals:                      49   BIC:                             109.7\n",
      "Df Model:                           1                                         \n",
      "Covariance Type:            nonrobust                                         \n",
      "==============================================================================\n",
      "                 coef    std err          t      P>|t|      [0.025      0.975]\n",
      "------------------------------------------------------------------------------\n",
      "const         -4.5287      1.477     -3.066      0.004      -7.497      -1.561\n",
      "x1             0.1545      0.021      7.282      0.000       0.112       0.197\n",
      "==============================================================================\n",
      "Omnibus:                        4.041   Durbin-Watson:                   1.944\n",
      "Prob(Omnibus):                  0.133   Jarque-Bera (JB):                2.683\n",
      "Skew:                          -0.381   Prob(JB):                        0.261\n",
      "Kurtosis:                       2.173   Cond. No.                     1.10e+03\n",
      "==============================================================================\n",
      "\n",
      "Notes:\n",
      "[1] Standard Errors assume that the covariance matrix of the errors is correctly specified.\n",
      "[2] The condition number is large, 1.1e+03. This might indicate that there are\n",
      "strong multicollinearity or other numerical problems.\n"
     ]
    }
   ],
   "source": [
    "X_life_adjust = sm.add_constant(X_life)\n",
    "life_model = sm.OLS(Y, X_life_adjust)\n",
    "results_life = life_model.fit()\n",
    "print(results_life.summary())"
   ]
  },
  {
   "cell_type": "code",
   "execution_count": 14,
   "metadata": {},
   "outputs": [
    {
     "data": {
      "image/png": "[encoded data removed]",
      "text/plain": [
       "<Figure size 1080x504 with 2 Axes>"
      ]
     },
     "metadata": {
      "needs_background": "light"
     },
     "output_type": "display_data"
    }
   ],
   "source": [
    "fig, axs = plt.subplots(1, 2, figsize=(15,7))\n",
    "#plt.figure()\n",
    "axs[0].scatter(X_happymeal, Y)\n",
    "axs[0].plot(X_happymeal, results_happymeal.predict(), color='red')\n",
    "axs[0].set(xlabel='Happy Meal Price ($)', ylabel='Perceptions of Happiness')\n",
    "axs[0].grid(True)\n",
    "fig.suptitle('Predicted Happiness from Happy Meal Prices VS Life Expectancy', fontsize=20)\n",
    "axs[1].scatter(X_life, Y)\n",
    "axs[1].plot(X_life, results_life.predict(), color='red')\n",
    "axs[1].set(xlabel='Life Expectancy (years)', ylabel='Perceptions of Happiness')\n",
    "axs[1].grid(True)\n",
    "\n",
    "axs[0].xaxis.get_label().set_fontsize(15)\n",
    "axs[0].yaxis.get_label().set_fontsize(15)\n",
    "axs[1].xaxis.get_label().set_fontsize(15)\n",
    "axs[1].yaxis.get_label().set_fontsize(15)\n",
    "plt.show()"
   ]
  },
  {
   "cell_type": "code",
   "execution_count": 15,
   "metadata": {},
   "outputs": [
    {
     "name": "stdout",
     "output_type": "stream",
     "text": [
      "[[-7.49693523 -1.56056379]\n",
      " [ 0.1118302   0.19706996]]\n"
     ]
    }
   ],
   "source": [
    "happymeal_ci = results_happymeal.conf_int()\n",
    "life_ci = results_life.conf_int()\n",
    "print(life_ci)"
   ]
  },
  {
   "cell_type": "code",
   "execution_count": 16,
   "metadata": {},
   "outputs": [],
   "source": [
    "def plot_CI(x, Y_pred, ci, name):\n",
    "    fig, ax = plt.subplots(figsize=(7,7))\n",
    "    ax.scatter(x, Y)\n",
    "    ax.plot(x, Y_pred.predict(), color='r')\n",
    "    #ax.fill_between(x, )\n",
    "    ax.set(xlabel=list(name.values())[0], ylabel='Perceptions of Happiness')\n",
    "    fig.suptitle(list(name.keys())[0], fontsize=17)\n",
    "    ax.xaxis.get_label().set_fontsize(15)\n",
    "    ax.yaxis.get_label().set_fontsize(15)\n",
    "    ax.grid(True)\n",
    "    plt.show()\n",
    "    #predictions = Y_pred.get_pre\n",
    "#plot_CI(X_happymeal, results_happymeal, happymeal_ci, {\"Predicted Happiness from Happy Meal Prices\":\"Happy Meal Price ($)\"})"
   ]
  },
  {
   "cell_type": "markdown",
   "metadata": {},
   "source": [
    "# Get Predictions Using R-Style Formulas"
   ]
  },
  {
   "cell_type": "code",
   "execution_count": 17,
   "metadata": {},
   "outputs": [
    {
     "data": {
      "image/png": "[encoded data removed]",
      "text/plain": [
       "<Figure size 720x504 with 1 Axes>"
      ]
     },
     "metadata": {
      "needs_background": "light"
     },
     "output_type": "display_data"
    }
   ],
   "source": [
    "import statsmodels.formula.api as smf\n",
    "from scipy.interpolate import UnivariateSpline\n",
    "df = df_deluxe.rename(columns={'Perceptions.of.happiness':'happiness', 'Healthy.life.expectancy':'life'})\n",
    "\n",
    "model = smf.ols('happiness ~ life', df)\n",
    "results = model.fit()\n",
    "predictions = results.get_prediction(df).summary_frame(0.05)\n",
    "\n",
    "# Get splines for CI\n",
    "x = df['life'].to_numpy()\n",
    "y = predictions['mean_ci_lower'].to_numpy()\n",
    "y2 = predictions['mean_ci_upper'].to_numpy()\n",
    "xnew = np.linspace(x.min(), x.max(), 51)\n",
    "ylo = np.linspace(y.min(), y.max(), 51)\n",
    "yhi = np.linspace(y2.min(), y2.max(), 51)\n",
    "spl = UnivariateSpline(xnew, ylo)\n",
    "spl2 = UnivariateSpline(xnew, yhi)\n",
    "\n",
    "# Get splines fo PI\n",
    "yPI = predictions['obs_ci_lower'].to_numpy()\n",
    "yPI2 = predictions['obs_ci_upper'].to_numpy()\n",
    "y2lo = np.linspace(yPI.min(), yPI.max(), 51)\n",
    "y2hi = np.linspace(yPI2.min(), yPI2.max(), 51)\n",
    "splPI = UnivariateSpline(xnew, y2lo)\n",
    "splPI2 = UnivariateSpline(xnew, y2hi)\n",
    "\n",
    "#spl = make_interp_spline(x,, k=3)\n",
    "# Plotting\n",
    "#lt.rc('axes',labelsize=20)\n",
    "plt.figure(figsize=(10,7))\n",
    "plt.scatter(df['life'], df['happiness'], marker = 'x', color = 'black')\n",
    "plt.plot(df['life'], predictions['mean'], color='b')\n",
    "plt.fill_between(xnew, spl(xnew), spl2(xnew), alpha=0.5, label='Confidence Interval')\n",
    "plt.fill_between(xnew, splPI(xnew), splPI2(xnew), alpha=0.1, label='Prediction Interval')\n",
    "#plt.scatter(xnew, ynew)\n",
    "#plt.plot(xnew, spl2(xnew))\n",
    "plt.legend()\n",
    "plt.xlabel('Life Expectancy (years)')\n",
    "plt.ylabel('Perceptions of Happiness')\n",
    "plt.grid(True)\n",
    "plt.show()"
   ]
  },
  {
   "cell_type": "code",
   "execution_count": null,
   "metadata": {},
   "outputs": [],
   "source": [
    "print(predictions)"
   ]
  },
  {
   "cell_type": "code",
   "execution_count": null,
   "metadata": {},
   "outputs": [],
   "source": [
    "from scipy import stats\n",
    "plt.figure(figsize=(10,7))\n",
    "plt.grid(True)\n",
    "res = stats.probplot(df['happiness'], plot=plt)\n",
    "plt.show()"
   ]
  },
  {
   "cell_type": "code",
   "execution_count": null,
   "metadata": {},
   "outputs": [],
   "source": [
    "residuals = Y - Y_pred_life\n",
    "plt.scatter(Y_pred_life, residuals)\n",
    "plt.plot([Y_pred_life.min(),Y_pred_life.max()],[0,0], '--',color = 'red')\n",
    "plt.xlabel('Predicted Happiness')\n",
    "plt.ylabel('Residuals')\n",
    "plt.grid(True)"
   ]
  },
  {
   "cell_type": "markdown",
   "metadata": {},
   "source": [
    "# Final DF Modification"
   ]
  },
  {
   "cell_type": "code",
   "execution_count": null,
   "metadata": {},
   "outputs": [],
   "source": [
    "data = df_deluxe\n",
    "data.columns = [c.replace('.','_') for c in data.columns]\n",
    "data.head()"
   ]
  },
  {
   "cell_type": "markdown",
   "metadata": {},
   "source": [
    "# Multiple Regression Model"
   ]
  },
  {
   "cell_type": "markdown",
   "metadata": {},
   "source": [
    "## Using Every Predictor"
   ]
  },
  {
   "cell_type": "code",
   "execution_count": null,
   "metadata": {},
   "outputs": [],
   "source": [
    "import statsmodels.formula.api as smf\n",
    "multiple_model = smf.ols('Perceptions_of_happiness ~ Regional_indicator + Healthy_life_expectancy + Social_support + Logged_GDP_per_capita + Freedom_to_make_life_choices + Generosity + Perceptions_of_corruption + Dollar_price', data)\n",
    "multiple_results = multiple_model.fit()\n",
    "multiple_results.summary()"
   ]
  },
  {
   "cell_type": "code",
   "execution_count": null,
   "metadata": {},
   "outputs": [],
   "source": [
    "sns.set_theme(color_codes=True)\n",
    "d = data.rename(columns={'Perceptions_of_happiness':'Happiness', 'Healthy_life_expectancy': 'Life_expectancy', 'Freedom_to_make_life_choices':'Freedom'})\n",
    "s = sns.pairplot(d, y_vars=['Happiness'], hue='Regional_indicator', height = 2)"
   ]
  },
  {
   "cell_type": "code",
   "execution_count": null,
   "metadata": {},
   "outputs": [],
   "source": [
    "sns.pairplot(data)"
   ]
  },
  {
   "cell_type": "code",
   "execution_count": null,
   "metadata": {},
   "outputs": [],
   "source": [
    "sns.boxplot(x='Perceptions_of_happiness',y='Regional_indicator',data=data)"
   ]
  },
  {
   "cell_type": "code",
   "execution_count": null,
   "metadata": {},
   "outputs": [],
   "source": [
    "predicted_happiness = multiple_results.predict()\n",
    "df_results = data[['Perceptions_of_happiness']].copy()\n",
    "df_results = df_results.rename(columns={'Perceptions_of_happiness':'Actual'})\n",
    "df_results['Predicted'] = predicted_happiness\n",
    "df_results"
   ]
  },
  {
   "cell_type": "code",
   "execution_count": null,
   "metadata": {},
   "outputs": [],
   "source": [
    "sns.regplot(x='Actual', y='Predicted', ci=95, data=df_results)"
   ]
  },
  {
   "cell_type": "markdown",
   "metadata": {},
   "source": [
    "# Start of reduced model"
   ]
  },
  {
   "cell_type": "code",
   "execution_count": null,
   "metadata": {},
   "outputs": [],
   "source": [
    "data = df_deluxe\n",
    "multiple_model2 = smf.ols('Perceptions_of_happiness ~ Social_support + Freedom_to_make_life_choices + Dollar_price', data)\n",
    "p = multiple_model2.fit()\n",
    "print(p.summary())"
   ]
  },
  {
   "cell_type": "markdown",
   "metadata": {},
   "source": [
    "### Test each interaction"
   ]
  },
  {
   "cell_type": "code",
   "execution_count": 19,
   "metadata": {},
   "outputs": [
    {
     "ename": "PatsyError",
     "evalue": "Error evaluating factor: NameError: name 'Perceptions_of_happiness' is not defined\n    Perceptions_of_happiness ~ Social_support + Freedom_to_make_life_choices + Dollar_price + Social_support*Freedom_to_make_life_choices + Social_support*Dollar_price + Social_support*Dollar_price*Freedom_to_make_life_choices\n    ^^^^^^^^^^^^^^^^^^^^^^^^",
     "output_type": "error",
     "traceback": [
      "\u001b[0;31m---------------------------------------------------------------------------\u001b[0m",
      "\u001b[0;31mNameError\u001b[0m                                 Traceback (most recent call last)",
      "\u001b[0;32m~/anaconda3/lib/python3.8/site-packages/patsy/compat.py\u001b[0m in \u001b[0;36mcall_and_wrap_exc\u001b[0;34m(msg, origin, f, *args, **kwargs)\u001b[0m\n\u001b[1;32m     35\u001b[0m     \u001b[0;32mtry\u001b[0m\u001b[0;34m:\u001b[0m\u001b[0;34m\u001b[0m\u001b[0;34m\u001b[0m\u001b[0m\n\u001b[0;32m---> 36\u001b[0;31m         \u001b[0;32mreturn\u001b[0m \u001b[0mf\u001b[0m\u001b[0;34m(\u001b[0m\u001b[0;34m*\u001b[0m\u001b[0margs\u001b[0m\u001b[0;34m,\u001b[0m \u001b[0;34m**\u001b[0m\u001b[0mkwargs\u001b[0m\u001b[0;34m)\u001b[0m\u001b[0;34m\u001b[0m\u001b[0;34m\u001b[0m\u001b[0m\n\u001b[0m\u001b[1;32m     37\u001b[0m     \u001b[0;32mexcept\u001b[0m \u001b[0mException\u001b[0m \u001b[0;32mas\u001b[0m \u001b[0me\u001b[0m\u001b[0;34m:\u001b[0m\u001b[0;34m\u001b[0m\u001b[0;34m\u001b[0m\u001b[0m\n",
      "\u001b[0;32m~/anaconda3/lib/python3.8/site-packages/patsy/eval.py\u001b[0m in \u001b[0;36meval\u001b[0;34m(self, expr, source_name, inner_namespace)\u001b[0m\n\u001b[1;32m    164\u001b[0m         \u001b[0mcode\u001b[0m \u001b[0;34m=\u001b[0m \u001b[0mcompile\u001b[0m\u001b[0;34m(\u001b[0m\u001b[0mexpr\u001b[0m\u001b[0;34m,\u001b[0m \u001b[0msource_name\u001b[0m\u001b[0;34m,\u001b[0m \u001b[0;34m\"eval\"\u001b[0m\u001b[0;34m,\u001b[0m \u001b[0mself\u001b[0m\u001b[0;34m.\u001b[0m\u001b[0mflags\u001b[0m\u001b[0;34m,\u001b[0m \u001b[0;32mFalse\u001b[0m\u001b[0;34m)\u001b[0m\u001b[0;34m\u001b[0m\u001b[0;34m\u001b[0m\u001b[0m\n\u001b[0;32m--> 165\u001b[0;31m         return eval(code, {}, VarLookupDict([inner_namespace]\n\u001b[0m\u001b[1;32m    166\u001b[0m                                             + self._namespaces))\n",
      "\u001b[0;32m<string>\u001b[0m in \u001b[0;36m<module>\u001b[0;34m\u001b[0m\n",
      "\u001b[0;31mNameError\u001b[0m: name 'Perceptions_of_happiness' is not defined",
      "\nThe above exception was the direct cause of the following exception:\n",
      "\u001b[0;31mPatsyError\u001b[0m                                Traceback (most recent call last)",
      "\u001b[0;32m<ipython-input-19-d00bfd09d40e>\u001b[0m in \u001b[0;36m<module>\u001b[0;34m\u001b[0m\n\u001b[1;32m      1\u001b[0m \u001b[0mdata\u001b[0m \u001b[0;34m=\u001b[0m \u001b[0mdf_deluxe\u001b[0m\u001b[0;34m\u001b[0m\u001b[0;34m\u001b[0m\u001b[0m\n\u001b[0;32m----> 2\u001b[0;31m \u001b[0mfull_interaction_model\u001b[0m \u001b[0;34m=\u001b[0m \u001b[0msmf\u001b[0m\u001b[0;34m.\u001b[0m\u001b[0mols\u001b[0m\u001b[0;34m(\u001b[0m\u001b[0;34m'Perceptions_of_happiness ~ Social_support + Freedom_to_make_life_choices + Dollar_price + Social_support*Freedom_to_make_life_choices + Social_support*Dollar_price + Social_support*Dollar_price*Freedom_to_make_life_choices'\u001b[0m\u001b[0;34m,\u001b[0m \u001b[0mdata\u001b[0m\u001b[0;34m)\u001b[0m\u001b[0;34m\u001b[0m\u001b[0;34m\u001b[0m\u001b[0m\n\u001b[0m\u001b[1;32m      3\u001b[0m \u001b[0mp\u001b[0m \u001b[0;34m=\u001b[0m \u001b[0mfull_interaction_model\u001b[0m\u001b[0;34m.\u001b[0m\u001b[0mfit\u001b[0m\u001b[0;34m(\u001b[0m\u001b[0;34m)\u001b[0m\u001b[0;34m\u001b[0m\u001b[0;34m\u001b[0m\u001b[0m\n\u001b[1;32m      4\u001b[0m \u001b[0mprint\u001b[0m\u001b[0;34m(\u001b[0m\u001b[0mp\u001b[0m\u001b[0;34m.\u001b[0m\u001b[0msummary\u001b[0m\u001b[0;34m(\u001b[0m\u001b[0;34m)\u001b[0m\u001b[0;34m)\u001b[0m\u001b[0;34m\u001b[0m\u001b[0;34m\u001b[0m\u001b[0m\n",
      "\u001b[0;32m~/anaconda3/lib/python3.8/site-packages/statsmodels/base/model.py\u001b[0m in \u001b[0;36mfrom_formula\u001b[0;34m(cls, formula, data, subset, drop_cols, *args, **kwargs)\u001b[0m\n\u001b[1;32m    167\u001b[0m             \u001b[0mmissing\u001b[0m \u001b[0;34m=\u001b[0m \u001b[0;34m'raise'\u001b[0m\u001b[0;34m\u001b[0m\u001b[0;34m\u001b[0m\u001b[0m\n\u001b[1;32m    168\u001b[0m \u001b[0;34m\u001b[0m\u001b[0m\n\u001b[0;32m--> 169\u001b[0;31m         tmp = handle_formula_data(data, None, formula, depth=eval_env,\n\u001b[0m\u001b[1;32m    170\u001b[0m                                   missing=missing)\n\u001b[1;32m    171\u001b[0m         \u001b[0;34m(\u001b[0m\u001b[0;34m(\u001b[0m\u001b[0mendog\u001b[0m\u001b[0;34m,\u001b[0m \u001b[0mexog\u001b[0m\u001b[0;34m)\u001b[0m\u001b[0;34m,\u001b[0m \u001b[0mmissing_idx\u001b[0m\u001b[0;34m,\u001b[0m \u001b[0mdesign_info\u001b[0m\u001b[0;34m)\u001b[0m \u001b[0;34m=\u001b[0m \u001b[0mtmp\u001b[0m\u001b[0;34m\u001b[0m\u001b[0;34m\u001b[0m\u001b[0m\n",
      "\u001b[0;32m~/anaconda3/lib/python3.8/site-packages/statsmodels/formula/formulatools.py\u001b[0m in \u001b[0;36mhandle_formula_data\u001b[0;34m(Y, X, formula, depth, missing)\u001b[0m\n\u001b[1;32m     61\u001b[0m     \u001b[0;32melse\u001b[0m\u001b[0;34m:\u001b[0m\u001b[0;34m\u001b[0m\u001b[0;34m\u001b[0m\u001b[0m\n\u001b[1;32m     62\u001b[0m         \u001b[0;32mif\u001b[0m \u001b[0mdata_util\u001b[0m\u001b[0;34m.\u001b[0m\u001b[0m_is_using_pandas\u001b[0m\u001b[0;34m(\u001b[0m\u001b[0mY\u001b[0m\u001b[0;34m,\u001b[0m \u001b[0;32mNone\u001b[0m\u001b[0;34m)\u001b[0m\u001b[0;34m:\u001b[0m\u001b[0;34m\u001b[0m\u001b[0;34m\u001b[0m\u001b[0m\n\u001b[0;32m---> 63\u001b[0;31m             result = dmatrices(formula, Y, depth, return_type='dataframe',\n\u001b[0m\u001b[1;32m     64\u001b[0m                                NA_action=na_action)\n\u001b[1;32m     65\u001b[0m         \u001b[0;32melse\u001b[0m\u001b[0;34m:\u001b[0m\u001b[0;34m\u001b[0m\u001b[0;34m\u001b[0m\u001b[0m\n",
      "\u001b[0;32m~/anaconda3/lib/python3.8/site-packages/patsy/highlevel.py\u001b[0m in \u001b[0;36mdmatrices\u001b[0;34m(formula_like, data, eval_env, NA_action, return_type)\u001b[0m\n\u001b[1;32m    307\u001b[0m     \"\"\"\n\u001b[1;32m    308\u001b[0m     \u001b[0meval_env\u001b[0m \u001b[0;34m=\u001b[0m \u001b[0mEvalEnvironment\u001b[0m\u001b[0;34m.\u001b[0m\u001b[0mcapture\u001b[0m\u001b[0;34m(\u001b[0m\u001b[0meval_env\u001b[0m\u001b[0;34m,\u001b[0m \u001b[0mreference\u001b[0m\u001b[0;34m=\u001b[0m\u001b[0;36m1\u001b[0m\u001b[0;34m)\u001b[0m\u001b[0;34m\u001b[0m\u001b[0;34m\u001b[0m\u001b[0m\n\u001b[0;32m--> 309\u001b[0;31m     (lhs, rhs) = _do_highlevel_design(formula_like, data, eval_env,\n\u001b[0m\u001b[1;32m    310\u001b[0m                                       NA_action, return_type)\n\u001b[1;32m    311\u001b[0m     \u001b[0;32mif\u001b[0m \u001b[0mlhs\u001b[0m\u001b[0;34m.\u001b[0m\u001b[0mshape\u001b[0m\u001b[0;34m[\u001b[0m\u001b[0;36m1\u001b[0m\u001b[0;34m]\u001b[0m \u001b[0;34m==\u001b[0m \u001b[0;36m0\u001b[0m\u001b[0;34m:\u001b[0m\u001b[0;34m\u001b[0m\u001b[0;34m\u001b[0m\u001b[0m\n",
      "\u001b[0;32m~/anaconda3/lib/python3.8/site-packages/patsy/highlevel.py\u001b[0m in \u001b[0;36m_do_highlevel_design\u001b[0;34m(formula_like, data, eval_env, NA_action, return_type)\u001b[0m\n\u001b[1;32m    162\u001b[0m     \u001b[0;32mdef\u001b[0m \u001b[0mdata_iter_maker\u001b[0m\u001b[0;34m(\u001b[0m\u001b[0;34m)\u001b[0m\u001b[0;34m:\u001b[0m\u001b[0;34m\u001b[0m\u001b[0;34m\u001b[0m\u001b[0m\n\u001b[1;32m    163\u001b[0m         \u001b[0;32mreturn\u001b[0m \u001b[0miter\u001b[0m\u001b[0;34m(\u001b[0m\u001b[0;34m[\u001b[0m\u001b[0mdata\u001b[0m\u001b[0;34m]\u001b[0m\u001b[0;34m)\u001b[0m\u001b[0;34m\u001b[0m\u001b[0;34m\u001b[0m\u001b[0m\n\u001b[0;32m--> 164\u001b[0;31m     design_infos = _try_incr_builders(formula_like, data_iter_maker, eval_env,\n\u001b[0m\u001b[1;32m    165\u001b[0m                                       NA_action)\n\u001b[1;32m    166\u001b[0m     \u001b[0;32mif\u001b[0m \u001b[0mdesign_infos\u001b[0m \u001b[0;32mis\u001b[0m \u001b[0;32mnot\u001b[0m \u001b[0;32mNone\u001b[0m\u001b[0;34m:\u001b[0m\u001b[0;34m\u001b[0m\u001b[0;34m\u001b[0m\u001b[0m\n",
      "\u001b[0;32m~/anaconda3/lib/python3.8/site-packages/patsy/highlevel.py\u001b[0m in \u001b[0;36m_try_incr_builders\u001b[0;34m(formula_like, data_iter_maker, eval_env, NA_action)\u001b[0m\n\u001b[1;32m     64\u001b[0m     \u001b[0;32mif\u001b[0m \u001b[0misinstance\u001b[0m\u001b[0;34m(\u001b[0m\u001b[0mformula_like\u001b[0m\u001b[0;34m,\u001b[0m \u001b[0mModelDesc\u001b[0m\u001b[0;34m)\u001b[0m\u001b[0;34m:\u001b[0m\u001b[0;34m\u001b[0m\u001b[0;34m\u001b[0m\u001b[0m\n\u001b[1;32m     65\u001b[0m         \u001b[0;32massert\u001b[0m \u001b[0misinstance\u001b[0m\u001b[0;34m(\u001b[0m\u001b[0meval_env\u001b[0m\u001b[0;34m,\u001b[0m \u001b[0mEvalEnvironment\u001b[0m\u001b[0;34m)\u001b[0m\u001b[0;34m\u001b[0m\u001b[0;34m\u001b[0m\u001b[0m\n\u001b[0;32m---> 66\u001b[0;31m         return design_matrix_builders([formula_like.lhs_termlist,\n\u001b[0m\u001b[1;32m     67\u001b[0m                                        formula_like.rhs_termlist],\n\u001b[1;32m     68\u001b[0m                                       \u001b[0mdata_iter_maker\u001b[0m\u001b[0;34m,\u001b[0m\u001b[0;34m\u001b[0m\u001b[0;34m\u001b[0m\u001b[0m\n",
      "\u001b[0;32m~/anaconda3/lib/python3.8/site-packages/patsy/build.py\u001b[0m in \u001b[0;36mdesign_matrix_builders\u001b[0;34m(termlists, data_iter_maker, eval_env, NA_action)\u001b[0m\n\u001b[1;32m    691\u001b[0m     \u001b[0;31m# on some data to find out what type of data they return.\u001b[0m\u001b[0;34m\u001b[0m\u001b[0;34m\u001b[0m\u001b[0;34m\u001b[0m\u001b[0m\n\u001b[1;32m    692\u001b[0m     (num_column_counts,\n\u001b[0;32m--> 693\u001b[0;31m      \u001b[0mcat_levels_contrasts\u001b[0m\u001b[0;34m)\u001b[0m \u001b[0;34m=\u001b[0m \u001b[0m_examine_factor_types\u001b[0m\u001b[0;34m(\u001b[0m\u001b[0mall_factors\u001b[0m\u001b[0;34m,\u001b[0m\u001b[0;34m\u001b[0m\u001b[0;34m\u001b[0m\u001b[0m\n\u001b[0m\u001b[1;32m    694\u001b[0m                                                    \u001b[0mfactor_states\u001b[0m\u001b[0;34m,\u001b[0m\u001b[0;34m\u001b[0m\u001b[0;34m\u001b[0m\u001b[0m\n\u001b[1;32m    695\u001b[0m                                                    \u001b[0mdata_iter_maker\u001b[0m\u001b[0;34m,\u001b[0m\u001b[0;34m\u001b[0m\u001b[0;34m\u001b[0m\u001b[0m\n",
      "\u001b[0;32m~/anaconda3/lib/python3.8/site-packages/patsy/build.py\u001b[0m in \u001b[0;36m_examine_factor_types\u001b[0;34m(factors, factor_states, data_iter_maker, NA_action)\u001b[0m\n\u001b[1;32m    441\u001b[0m     \u001b[0;32mfor\u001b[0m \u001b[0mdata\u001b[0m \u001b[0;32min\u001b[0m \u001b[0mdata_iter_maker\u001b[0m\u001b[0;34m(\u001b[0m\u001b[0;34m)\u001b[0m\u001b[0;34m:\u001b[0m\u001b[0;34m\u001b[0m\u001b[0;34m\u001b[0m\u001b[0m\n\u001b[1;32m    442\u001b[0m         \u001b[0;32mfor\u001b[0m \u001b[0mfactor\u001b[0m \u001b[0;32min\u001b[0m \u001b[0mlist\u001b[0m\u001b[0;34m(\u001b[0m\u001b[0mexamine_needed\u001b[0m\u001b[0;34m)\u001b[0m\u001b[0;34m:\u001b[0m\u001b[0;34m\u001b[0m\u001b[0;34m\u001b[0m\u001b[0m\n\u001b[0;32m--> 443\u001b[0;31m             \u001b[0mvalue\u001b[0m \u001b[0;34m=\u001b[0m \u001b[0mfactor\u001b[0m\u001b[0;34m.\u001b[0m\u001b[0meval\u001b[0m\u001b[0;34m(\u001b[0m\u001b[0mfactor_states\u001b[0m\u001b[0;34m[\u001b[0m\u001b[0mfactor\u001b[0m\u001b[0;34m]\u001b[0m\u001b[0;34m,\u001b[0m \u001b[0mdata\u001b[0m\u001b[0;34m)\u001b[0m\u001b[0;34m\u001b[0m\u001b[0;34m\u001b[0m\u001b[0m\n\u001b[0m\u001b[1;32m    444\u001b[0m             \u001b[0;32mif\u001b[0m \u001b[0mfactor\u001b[0m \u001b[0;32min\u001b[0m \u001b[0mcat_sniffers\u001b[0m \u001b[0;32mor\u001b[0m \u001b[0mguess_categorical\u001b[0m\u001b[0;34m(\u001b[0m\u001b[0mvalue\u001b[0m\u001b[0;34m)\u001b[0m\u001b[0;34m:\u001b[0m\u001b[0;34m\u001b[0m\u001b[0;34m\u001b[0m\u001b[0m\n\u001b[1;32m    445\u001b[0m                 \u001b[0;32mif\u001b[0m \u001b[0mfactor\u001b[0m \u001b[0;32mnot\u001b[0m \u001b[0;32min\u001b[0m \u001b[0mcat_sniffers\u001b[0m\u001b[0;34m:\u001b[0m\u001b[0;34m\u001b[0m\u001b[0;34m\u001b[0m\u001b[0m\n",
      "\u001b[0;32m~/anaconda3/lib/python3.8/site-packages/patsy/eval.py\u001b[0m in \u001b[0;36meval\u001b[0;34m(self, memorize_state, data)\u001b[0m\n\u001b[1;32m    562\u001b[0m \u001b[0;34m\u001b[0m\u001b[0m\n\u001b[1;32m    563\u001b[0m     \u001b[0;32mdef\u001b[0m \u001b[0meval\u001b[0m\u001b[0;34m(\u001b[0m\u001b[0mself\u001b[0m\u001b[0;34m,\u001b[0m \u001b[0mmemorize_state\u001b[0m\u001b[0;34m,\u001b[0m \u001b[0mdata\u001b[0m\u001b[0;34m)\u001b[0m\u001b[0;34m:\u001b[0m\u001b[0;34m\u001b[0m\u001b[0;34m\u001b[0m\u001b[0m\n\u001b[0;32m--> 564\u001b[0;31m         return self._eval(memorize_state[\"eval_code\"],\n\u001b[0m\u001b[1;32m    565\u001b[0m                           \u001b[0mmemorize_state\u001b[0m\u001b[0;34m,\u001b[0m\u001b[0;34m\u001b[0m\u001b[0;34m\u001b[0m\u001b[0m\n\u001b[1;32m    566\u001b[0m                           data)\n",
      "\u001b[0;32m~/anaconda3/lib/python3.8/site-packages/patsy/eval.py\u001b[0m in \u001b[0;36m_eval\u001b[0;34m(self, code, memorize_state, data)\u001b[0m\n\u001b[1;32m    545\u001b[0m     \u001b[0;32mdef\u001b[0m \u001b[0m_eval\u001b[0m\u001b[0;34m(\u001b[0m\u001b[0mself\u001b[0m\u001b[0;34m,\u001b[0m \u001b[0mcode\u001b[0m\u001b[0;34m,\u001b[0m \u001b[0mmemorize_state\u001b[0m\u001b[0;34m,\u001b[0m \u001b[0mdata\u001b[0m\u001b[0;34m)\u001b[0m\u001b[0;34m:\u001b[0m\u001b[0;34m\u001b[0m\u001b[0;34m\u001b[0m\u001b[0m\n\u001b[1;32m    546\u001b[0m         \u001b[0minner_namespace\u001b[0m \u001b[0;34m=\u001b[0m \u001b[0mVarLookupDict\u001b[0m\u001b[0;34m(\u001b[0m\u001b[0;34m[\u001b[0m\u001b[0mdata\u001b[0m\u001b[0;34m,\u001b[0m \u001b[0mmemorize_state\u001b[0m\u001b[0;34m[\u001b[0m\u001b[0;34m\"transforms\"\u001b[0m\u001b[0;34m]\u001b[0m\u001b[0;34m]\u001b[0m\u001b[0;34m)\u001b[0m\u001b[0;34m\u001b[0m\u001b[0;34m\u001b[0m\u001b[0m\n\u001b[0;32m--> 547\u001b[0;31m         return call_and_wrap_exc(\"Error evaluating factor\",\n\u001b[0m\u001b[1;32m    548\u001b[0m                                  \u001b[0mself\u001b[0m\u001b[0;34m,\u001b[0m\u001b[0;34m\u001b[0m\u001b[0;34m\u001b[0m\u001b[0m\n\u001b[1;32m    549\u001b[0m                                  \u001b[0mmemorize_state\u001b[0m\u001b[0;34m[\u001b[0m\u001b[0;34m\"eval_env\"\u001b[0m\u001b[0;34m]\u001b[0m\u001b[0;34m.\u001b[0m\u001b[0meval\u001b[0m\u001b[0;34m,\u001b[0m\u001b[0;34m\u001b[0m\u001b[0;34m\u001b[0m\u001b[0m\n",
      "\u001b[0;32m~/anaconda3/lib/python3.8/site-packages/patsy/compat.py\u001b[0m in \u001b[0;36mcall_and_wrap_exc\u001b[0;34m(msg, origin, f, *args, **kwargs)\u001b[0m\n\u001b[1;32m     41\u001b[0m                                  origin)\n\u001b[1;32m     42\u001b[0m             \u001b[0;31m# Use 'exec' to hide this syntax from the Python 2 parser:\u001b[0m\u001b[0;34m\u001b[0m\u001b[0;34m\u001b[0m\u001b[0;34m\u001b[0m\u001b[0m\n\u001b[0;32m---> 43\u001b[0;31m             \u001b[0mexec\u001b[0m\u001b[0;34m(\u001b[0m\u001b[0;34m\"raise new_exc from e\"\u001b[0m\u001b[0;34m)\u001b[0m\u001b[0;34m\u001b[0m\u001b[0;34m\u001b[0m\u001b[0m\n\u001b[0m\u001b[1;32m     44\u001b[0m         \u001b[0;32melse\u001b[0m\u001b[0;34m:\u001b[0m\u001b[0;34m\u001b[0m\u001b[0;34m\u001b[0m\u001b[0m\n\u001b[1;32m     45\u001b[0m             \u001b[0;31m# In python 2, we just let the original exception escape -- better\u001b[0m\u001b[0;34m\u001b[0m\u001b[0;34m\u001b[0m\u001b[0;34m\u001b[0m\u001b[0m\n",
      "\u001b[0;32m~/anaconda3/lib/python3.8/site-packages/patsy/compat.py\u001b[0m in \u001b[0;36m<module>\u001b[0;34m\u001b[0m\n",
      "\u001b[0;31mPatsyError\u001b[0m: Error evaluating factor: NameError: name 'Perceptions_of_happiness' is not defined\n    Perceptions_of_happiness ~ Social_support + Freedom_to_make_life_choices + Dollar_price + Social_support*Freedom_to_make_life_choices + Social_support*Dollar_price + Social_support*Dollar_price*Freedom_to_make_life_choices\n    ^^^^^^^^^^^^^^^^^^^^^^^^"
     ]
    }
   ],
   "source": [
    "data = df_deluxe\n",
    "full_interaction_model = smf.ols('Perceptions_of_happiness ~ Social_support + Freedom_to_make_life_choices + Dollar_price + Social_support*Freedom_to_make_life_choices + Social_support*Dollar_price + Social_support*Dollar_price*Freedom_to_make_life_choices', data)\n",
    "p = full_interaction_model.fit()\n",
    "print(p.summary())"
   ]
  },
  {
   "cell_type": "markdown",
   "metadata": {},
   "source": [
    "### Only significant predictors"
   ]
  },
  {
   "cell_type": "code",
   "execution_count": null,
   "metadata": {},
   "outputs": [],
   "source": [
    "data = df_deluxe\n",
    "interaction_model = smf.ols('Perceptions_of_happiness ~ Social_support + Freedom_to_make_life_choices + Dollar_price + Social_support*Freedom_to_make_life_choices', data)\n",
    "interaction_p = interaction_model.fit()\n",
    "print(interaction_p.summary())"
   ]
  },
  {
   "cell_type": "markdown",
   "metadata": {},
   "source": [
    "### Test of normality for interaction model"
   ]
  },
  {
   "cell_type": "code",
   "execution_count": 20,
   "metadata": {},
   "outputs": [
    {
     "ename": "NameError",
     "evalue": "name 'interaction_p' is not defined",
     "output_type": "error",
     "traceback": [
      "\u001b[0;31m---------------------------------------------------------------------------\u001b[0m",
      "\u001b[0;31mNameError\u001b[0m                                 Traceback (most recent call last)",
      "\u001b[0;32m<ipython-input-20-dda447d89846>\u001b[0m in \u001b[0;36m<module>\u001b[0;34m\u001b[0m\n\u001b[1;32m      1\u001b[0m \u001b[0;32mfrom\u001b[0m \u001b[0mscipy\u001b[0m \u001b[0;32mimport\u001b[0m \u001b[0mstats\u001b[0m\u001b[0;34m\u001b[0m\u001b[0;34m\u001b[0m\u001b[0m\n\u001b[0;32m----> 2\u001b[0;31m \u001b[0mshapiro_test\u001b[0m \u001b[0;34m=\u001b[0m \u001b[0mstats\u001b[0m\u001b[0;34m.\u001b[0m\u001b[0mshapiro\u001b[0m\u001b[0;34m(\u001b[0m\u001b[0minteraction_p\u001b[0m\u001b[0;34m.\u001b[0m\u001b[0mresid\u001b[0m\u001b[0;34m/\u001b[0m\u001b[0mmath\u001b[0m\u001b[0;34m.\u001b[0m\u001b[0msqrt\u001b[0m\u001b[0;34m(\u001b[0m\u001b[0;34m(\u001b[0m\u001b[0minteraction_p\u001b[0m\u001b[0;34m.\u001b[0m\u001b[0mresid\u001b[0m\u001b[0;34m)\u001b[0m\u001b[0;34m.\u001b[0m\u001b[0mvar\u001b[0m\u001b[0;34m(\u001b[0m\u001b[0;34m)\u001b[0m\u001b[0;34m)\u001b[0m\u001b[0;34m)\u001b[0m\u001b[0;34m\u001b[0m\u001b[0;34m\u001b[0m\u001b[0m\n\u001b[0m\u001b[1;32m      3\u001b[0m \u001b[0mprint\u001b[0m\u001b[0;34m(\u001b[0m\u001b[0mshapiro_test\u001b[0m\u001b[0;34m)\u001b[0m\u001b[0;34m\u001b[0m\u001b[0;34m\u001b[0m\u001b[0m\n\u001b[1;32m      4\u001b[0m \u001b[0;34m\u001b[0m\u001b[0m\n\u001b[1;32m      5\u001b[0m \u001b[0myData\u001b[0m \u001b[0;34m=\u001b[0m \u001b[0mdata\u001b[0m\u001b[0;34m[\u001b[0m\u001b[0;34m'Perceptions_of_happiness'\u001b[0m\u001b[0;34m]\u001b[0m\u001b[0;34m\u001b[0m\u001b[0;34m\u001b[0m\u001b[0m\n",
      "\u001b[0;31mNameError\u001b[0m: name 'interaction_p' is not defined"
     ]
    }
   ],
   "source": [
    "from scipy import stats\n",
    "shapiro_test = stats.shapiro(interaction_p.resid/math.sqrt((interaction_p.resid).var()))\n",
    "print(shapiro_test)\n",
    "\n",
    "yData = data['Perceptions_of_happiness']\n",
    "plt.plot(data['Social_support'], yData - interaction_p.predict(), 'o')\n",
    "plt.axhline(color = 'r', linestyle = '-')\n",
    "\n",
    "sm.qqplot(interaction_p.resid/math.sqrt((interaction_p.resid).var()), line = '45')"
   ]
  },
  {
   "cell_type": "code",
   "execution_count": null,
   "metadata": {},
   "outputs": [],
   "source": []
  }
 ],
 "metadata": {
  "kernelspec": {
   "display_name": "Python 3",
   "language": "python",
   "name": "python3"
  },
  "language_info": {
   "codemirror_mode": {
    "name": "ipython",
    "version": 3
   },
   "file_extension": ".py",
   "mimetype": "text/x-python",
   "name": "python",
   "nbconvert_exporter": "python",
   "pygments_lexer": "ipython3",
   "version": "3.8.5"
  }
 },
 "nbformat": 4,
 "nbformat_minor": 4
}
